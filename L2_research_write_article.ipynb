{
 "cells": [
  {
   "cell_type": "markdown",
   "metadata": {},
   "source": [
    "You can download the `requirements.txt` for this course from the workspace of this lab. `File --> Open...`"
   ]
  },
  {
   "cell_type": "markdown",
   "metadata": {},
   "source": [
    "# L2: Create Agents to Research and Write an Article\n",
    "\n",
    "In this lesson, you will be introduced to the foundational concepts of multi-agent systems and get an overview of the crewAI framework."
   ]
  },
  {
   "cell_type": "markdown",
   "metadata": {},
   "source": [
    "The libraries are already installed in the classroom. If you're running this notebook on your own machine, you can install the following:\n",
    "```Python\n",
    "!pip install crewai==0.28.8 crewai_tools==0.1.6 langchain_community==0.0.29\n",
    "```"
   ]
  },
  {
   "cell_type": "code",
   "execution_count": 1,
   "metadata": {
    "height": 64
   },
   "outputs": [],
   "source": [
    "# Warning control\n",
    "import warnings\n",
    "warnings.filterwarnings('ignore')"
   ]
  },
  {
   "cell_type": "markdown",
   "metadata": {},
   "source": [
    "- Import from the crewAI libray."
   ]
  },
  {
   "cell_type": "code",
   "execution_count": 2,
   "metadata": {
    "height": 30
   },
   "outputs": [],
   "source": [
    "from crewai import Agent, Task, Crew"
   ]
  },
  {
   "cell_type": "markdown",
   "metadata": {},
   "source": [
    "- As a LLM for your agents, you'll be using OpenAI's `gpt-3.5-turbo`.\n",
    "\n",
    "**Optional Note:** crewAI also allow other popular models to be used as a LLM for your Agents. You can see some of the examples at the [bottom of the notebook](#1)."
   ]
  },
  {
   "cell_type": "code",
   "execution_count": 3,
   "metadata": {
    "height": 113
   },
   "outputs": [],
   "source": [
    "import os\n",
    "from utils import get_openai_api_key\n",
    "\n",
    "openai_api_key = get_openai_api_key()\n",
    "os.environ[\"OPENAI_MODEL_NAME\"] = 'gpt-3.5-turbo'"
   ]
  },
  {
   "cell_type": "markdown",
   "metadata": {},
   "source": [
    "## Creating Agents\n",
    "\n",
    "- Define your Agents, and provide them a `role`, `goal` and `backstory`.\n",
    "- It has been seen that LLMs perform better when they are role playing."
   ]
  },
  {
   "cell_type": "markdown",
   "metadata": {},
   "source": [
    "### Agent: Planner\n",
    "\n",
    "**Note**: The benefit of using _multiple strings_ :\n",
    "```Python\n",
    "varname = \"line 1 of text\"\n",
    "          \"line 2 of text\"\n",
    "```\n",
    "\n",
    "versus the _triple quote docstring_:\n",
    "```Python\n",
    "varname = \"\"\"line 1 of text\n",
    "             line 2 of text\n",
    "          \"\"\"\n",
    "```\n",
    "is that it can avoid adding those whitespaces and newline characters, making it better formatted to be passed to the LLM."
   ]
  },
  {
   "cell_type": "code",
   "execution_count": 4,
   "metadata": {
    "height": 249
   },
   "outputs": [],
   "source": [
    "planner = Agent(\n",
    "    role=\"Content Planner\",\n",
    "    goal=\"Plan engaging and factually accurate content on {topic}\",\n",
    "    backstory=\"You're working on planning a blog article \"\n",
    "              \"about the topic: {topic}.\"\n",
    "              \"You collect information that helps the \"\n",
    "              \"audience learn something \"\n",
    "              \"and make informed decisions. \"\n",
    "              \"Your work is the basis for \"\n",
    "              \"the Content Writer to write an article on this topic.\",\n",
    "    allow_delegation=False,\n",
    "\tverbose=True\n",
    ")"
   ]
  },
  {
   "cell_type": "markdown",
   "metadata": {},
   "source": [
    "### Agent: Writer"
   ]
  },
  {
   "cell_type": "code",
   "execution_count": 5,
   "metadata": {
    "height": 385
   },
   "outputs": [],
   "source": [
    "writer = Agent(\n",
    "    role=\"Content Writer\",\n",
    "    goal=\"Write insightful and factually accurate \"\n",
    "         \"opinion piece about the topic: {topic}\",\n",
    "    backstory=\"You're working on a writing \"\n",
    "              \"a new opinion piece about the topic: {topic}. \"\n",
    "              \"You base your writing on the work of \"\n",
    "              \"the Content Planner, who provides an outline \"\n",
    "              \"and relevant context about the topic. \"\n",
    "              \"You follow the main objectives and \"\n",
    "              \"direction of the outline, \"\n",
    "              \"as provide by the Content Planner. \"\n",
    "              \"You also provide objective and impartial insights \"\n",
    "              \"and back them up with information \"\n",
    "              \"provide by the Content Planner. \"\n",
    "              \"You acknowledge in your opinion piece \"\n",
    "              \"when your statements are opinions \"\n",
    "              \"as opposed to objective statements.\",\n",
    "    allow_delegation=False,\n",
    "    verbose=True\n",
    ")"
   ]
  },
  {
   "cell_type": "markdown",
   "metadata": {},
   "source": [
    "### Agent: Editor"
   ]
  },
  {
   "cell_type": "code",
   "execution_count": 6,
   "metadata": {
    "height": 283
   },
   "outputs": [],
   "source": [
    "editor = Agent(\n",
    "    role=\"Editor\",\n",
    "    goal=\"Edit a given blog post to align with \"\n",
    "         \"the writing style of the organization. \",\n",
    "    backstory=\"You are an editor who receives a blog post \"\n",
    "              \"from the Content Writer. \"\n",
    "              \"Your goal is to review the blog post \"\n",
    "              \"to ensure that it follows journalistic best practices,\"\n",
    "              \"provides balanced viewpoints \"\n",
    "              \"when providing opinions or assertions, \"\n",
    "              \"and also avoids major controversial topics \"\n",
    "              \"or opinions when possible.\",\n",
    "    allow_delegation=False,\n",
    "    verbose=True\n",
    ")"
   ]
  },
  {
   "cell_type": "markdown",
   "metadata": {},
   "source": [
    "## Creating Tasks\n",
    "\n",
    "- Define your Tasks, and provide them a `description`, `expected_output` and `agent`."
   ]
  },
  {
   "cell_type": "markdown",
   "metadata": {},
   "source": [
    "### Task: Plan"
   ]
  },
  {
   "cell_type": "code",
   "execution_count": 7,
   "metadata": {
    "height": 283
   },
   "outputs": [],
   "source": [
    "plan = Task(\n",
    "    description=(\n",
    "        \"1. Prioritize the latest trends, key players, \"\n",
    "            \"and noteworthy news on {topic}.\\n\"\n",
    "        \"2. Identify the target audience, considering \"\n",
    "            \"their interests and pain points.\\n\"\n",
    "        \"3. Develop a detailed content outline including \"\n",
    "            \"an introduction, key points, and a call to action.\\n\"\n",
    "        \"4. Include SEO keywords and relevant data or sources.\"\n",
    "    ),\n",
    "    expected_output=\"A comprehensive content plan document \"\n",
    "        \"with an outline, audience analysis, \"\n",
    "        \"SEO keywords, and resources.\",\n",
    "    agent=planner,\n",
    ")"
   ]
  },
  {
   "cell_type": "markdown",
   "metadata": {},
   "source": [
    "### Task: Write"
   ]
  },
  {
   "cell_type": "code",
   "execution_count": 8,
   "metadata": {
    "height": 334
   },
   "outputs": [],
   "source": [
    "write = Task(\n",
    "    description=(\n",
    "        \"1. Use the content plan to craft a compelling \"\n",
    "            \"blog post on {topic}.\\n\"\n",
    "        \"2. Incorporate SEO keywords naturally.\\n\"\n",
    "\t\t\"3. Sections/Subtitles are properly named \"\n",
    "            \"in an engaging manner.\\n\"\n",
    "        \"4. Ensure the post is structured with an \"\n",
    "            \"engaging introduction, insightful body, \"\n",
    "            \"and a summarizing conclusion.\\n\"\n",
    "        \"5. Proofread for grammatical errors and \"\n",
    "            \"alignment with the brand's voice.\\n\"\n",
    "    ),\n",
    "    expected_output=\"A well-written blog post \"\n",
    "        \"in markdown format, ready for publication, \"\n",
    "        \"each section should have 2 or 3 paragraphs.\",\n",
    "    agent=writer,\n",
    ")"
   ]
  },
  {
   "cell_type": "markdown",
   "metadata": {},
   "source": [
    "### Task: Edit"
   ]
  },
  {
   "cell_type": "code",
   "execution_count": 9,
   "metadata": {
    "height": 181
   },
   "outputs": [],
   "source": [
    "edit = Task(\n",
    "    description=(\"Proofread the given blog post for \"\n",
    "                 \"grammatical errors and \"\n",
    "                 \"alignment with the brand's voice.\"),\n",
    "    expected_output=\"A well-written blog post in markdown format, \"\n",
    "                    \"ready for publication, \"\n",
    "                    \"each section should have 2 or 3 paragraphs.\",\n",
    "    agent=editor\n",
    ")"
   ]
  },
  {
   "cell_type": "markdown",
   "metadata": {},
   "source": [
    "## Creating the Crew\n",
    "\n",
    "- Create your crew of Agents\n",
    "- Pass the tasks to be performed by those agents.\n",
    "    - **Note**: *For this simple example*, the tasks will be performed sequentially (i.e they are dependent on each other), so the _order_ of the task in the list _matters_.\n",
    "- `verbose=2` allows you to see all the logs of the execution. "
   ]
  },
  {
   "cell_type": "code",
   "execution_count": 10,
   "metadata": {
    "height": 98
   },
   "outputs": [],
   "source": [
    "crew = Crew(\n",
    "    agents=[planner, writer, editor],\n",
    "    tasks=[plan, write, edit],\n",
    "    verbose=2\n",
    ")"
   ]
  },
  {
   "cell_type": "markdown",
   "metadata": {},
   "source": [
    "## Running the Crew"
   ]
  },
  {
   "cell_type": "markdown",
   "metadata": {},
   "source": [
    "**Note**: LLMs can provide different outputs for they same input, so what you get might be different than what you see in the video."
   ]
  },
  {
   "cell_type": "code",
   "execution_count": 11,
   "metadata": {
    "height": 45
   },
   "outputs": [
    {
     "name": "stdout",
     "output_type": "stream",
     "text": [
      "\u001b[1m\u001b[95m [DEBUG]: == Working Agent: Content Planner\u001b[00m\n",
      "\u001b[1m\u001b[95m [INFO]: == Starting Task: 1. Prioritize the latest trends, key players, and noteworthy news on Artificial Intelligence.\n",
      "2. Identify the target audience, considering their interests and pain points.\n",
      "3. Develop a detailed content outline including an introduction, key points, and a call to action.\n",
      "4. Include SEO keywords and relevant data or sources.\u001b[00m\n",
      "\n",
      "\n",
      "\u001b[1m> Entering new CrewAgentExecutor chain...\u001b[0m\n",
      "\u001b[32;1m\u001b[1;3mI now can give a great answer\n",
      "\n",
      "Final Answer: \n",
      "\n",
      "Content Plan Document\n",
      "\n",
      "Title: The Future of Artificial Intelligence: Trends, Players, and News\n",
      "\n",
      "Introduction: \n",
      "- Brief overview of the rapid advancements in Artificial Intelligence (AI)\n",
      "- Importance of staying up-to-date with the latest trends and key players in the AI industry\n",
      "- Preview of the key points to be discussed in the article\n",
      "\n",
      "Key Points:\n",
      "1. Latest Trends in Artificial Intelligence:\n",
      "- Deep learning and neural networks\n",
      "- Natural language processing\n",
      "- AI in healthcare, finance, and other industries\n",
      "- Ethical considerations in AI development\n",
      "\n",
      "2. Key Players in the AI Industry:\n",
      "- Google (Google Brain, DeepMind)\n",
      "- Amazon (Alexa, Amazon Web Services)\n",
      "- Microsoft (Cortana, Azure)\n",
      "- IBM (Watson)\n",
      "- Startups disrupting the AI space\n",
      "\n",
      "3. Noteworthy News in Artificial Intelligence:\n",
      "- Recent breakthroughs in AI research\n",
      "- Impact of AI on job markets and society\n",
      "- Regulations and policies shaping the future of AI\n",
      "\n",
      "Audience Analysis:\n",
      "- Target Audience: Tech-savvy individuals, business professionals, and students interested in AI\n",
      "- Interests: Advancements in technology, future job opportunities, ethical implications of AI\n",
      "- Pain Points: Understanding complex AI concepts, keeping up with the latest industry trends\n",
      "\n",
      "SEO Keywords:\n",
      "- Artificial Intelligence trends\n",
      "- Key players in AI industry\n",
      "- Latest news in Artificial Intelligence\n",
      "- Future of AI technology\n",
      "- Ethical considerations in AI development\n",
      "\n",
      "Resources:\n",
      "- Forbes: https://www.forbes.com/ai\n",
      "- MIT Technology Review: https://www.technologyreview.com/artificial-intelligence\n",
      "- AI Trends: https://www.aitrends.com\n",
      "\n",
      "Call to Action:\n",
      "- Encourage readers to explore the resources provided for further learning\n",
      "- Invite readers to share their thoughts and insights on the future of AI in the comments section\n",
      "\n",
      "By following this comprehensive content plan, the blog article on Artificial Intelligence will provide valuable insights and information to the target audience, helping them stay informed and engaged with the latest trends in AI.\u001b[0m\n",
      "\n",
      "\u001b[1m> Finished chain.\u001b[0m\n",
      "\u001b[1m\u001b[92m [DEBUG]: == [Content Planner] Task output: Content Plan Document\n",
      "\n",
      "Title: The Future of Artificial Intelligence: Trends, Players, and News\n",
      "\n",
      "Introduction: \n",
      "- Brief overview of the rapid advancements in Artificial Intelligence (AI)\n",
      "- Importance of staying up-to-date with the latest trends and key players in the AI industry\n",
      "- Preview of the key points to be discussed in the article\n",
      "\n",
      "Key Points:\n",
      "1. Latest Trends in Artificial Intelligence:\n",
      "- Deep learning and neural networks\n",
      "- Natural language processing\n",
      "- AI in healthcare, finance, and other industries\n",
      "- Ethical considerations in AI development\n",
      "\n",
      "2. Key Players in the AI Industry:\n",
      "- Google (Google Brain, DeepMind)\n",
      "- Amazon (Alexa, Amazon Web Services)\n",
      "- Microsoft (Cortana, Azure)\n",
      "- IBM (Watson)\n",
      "- Startups disrupting the AI space\n",
      "\n",
      "3. Noteworthy News in Artificial Intelligence:\n",
      "- Recent breakthroughs in AI research\n",
      "- Impact of AI on job markets and society\n",
      "- Regulations and policies shaping the future of AI\n",
      "\n",
      "Audience Analysis:\n",
      "- Target Audience: Tech-savvy individuals, business professionals, and students interested in AI\n",
      "- Interests: Advancements in technology, future job opportunities, ethical implications of AI\n",
      "- Pain Points: Understanding complex AI concepts, keeping up with the latest industry trends\n",
      "\n",
      "SEO Keywords:\n",
      "- Artificial Intelligence trends\n",
      "- Key players in AI industry\n",
      "- Latest news in Artificial Intelligence\n",
      "- Future of AI technology\n",
      "- Ethical considerations in AI development\n",
      "\n",
      "Resources:\n",
      "- Forbes: https://www.forbes.com/ai\n",
      "- MIT Technology Review: https://www.technologyreview.com/artificial-intelligence\n",
      "- AI Trends: https://www.aitrends.com\n",
      "\n",
      "Call to Action:\n",
      "- Encourage readers to explore the resources provided for further learning\n",
      "- Invite readers to share their thoughts and insights on the future of AI in the comments section\n",
      "\n",
      "By following this comprehensive content plan, the blog article on Artificial Intelligence will provide valuable insights and information to the target audience, helping them stay informed and engaged with the latest trends in AI.\n",
      "\n",
      "\u001b[00m\n",
      "\u001b[1m\u001b[95m [DEBUG]: == Working Agent: Content Writer\u001b[00m\n",
      "\u001b[1m\u001b[95m [INFO]: == Starting Task: 1. Use the content plan to craft a compelling blog post on Artificial Intelligence.\n",
      "2. Incorporate SEO keywords naturally.\n",
      "3. Sections/Subtitles are properly named in an engaging manner.\n",
      "4. Ensure the post is structured with an engaging introduction, insightful body, and a summarizing conclusion.\n",
      "5. Proofread for grammatical errors and alignment with the brand's voice.\n",
      "\u001b[00m\n",
      "\n",
      "\n",
      "\u001b[1m> Entering new CrewAgentExecutor chain...\u001b[0m\n",
      "\u001b[32;1m\u001b[1;3mI now can give a great answer\n",
      "\n",
      "Final Answer: \n",
      "\n",
      "# The Future of Artificial Intelligence: Trends, Players, and News\n",
      "\n",
      "## Introduction\n",
      "\n",
      "Artificial Intelligence (AI) has been rapidly advancing, revolutionizing various industries and shaping the future of technology. Staying up-to-date with the latest trends and key players in the AI industry is crucial for tech-savvy individuals, business professionals, and students interested in AI. In this article, we will explore the latest trends in AI, key players in the industry, and noteworthy news that is shaping the future of AI.\n",
      "\n",
      "## Latest Trends in Artificial Intelligence\n",
      "\n",
      "Deep learning and neural networks have been at the forefront of AI innovation, enabling machines to learn and make decisions like humans. Natural language processing has also seen significant advancements, with AI-powered systems understanding and generating human language. AI applications in healthcare, finance, and other industries continue to grow, offering solutions to complex problems. However, ethical considerations in AI development, such as bias in algorithms and data privacy, remain crucial in ensuring responsible AI implementation.\n",
      "\n",
      "## Key Players in the AI Industry\n",
      "\n",
      "Major tech companies like Google (Google Brain, DeepMind), Amazon (Alexa, Amazon Web Services), Microsoft (Cortana, Azure), and IBM (Watson) have been leading the way in AI research and development. Alongside these tech giants, startups disrupting the AI space with innovative solutions and products are also making significant contributions to the industry. Collaborations and partnerships between established companies and startups are driving further advancements in AI technology.\n",
      "\n",
      "## Noteworthy News in Artificial Intelligence\n",
      "\n",
      "Recent breakthroughs in AI research, such as advancements in reinforcement learning and computer vision, have been making headlines. The impact of AI on job markets and society is a topic of debate, with concerns about automation and job displacement. Regulations and policies are being developed to shape the future of AI, ensuring ethical and responsible AI deployment. Staying informed about these developments is essential for understanding the implications of AI on our daily lives.\n",
      "\n",
      "## Conclusion\n",
      "\n",
      "In conclusion, the future of Artificial Intelligence is filled with exciting possibilities and challenges. By keeping up with the latest trends, key players, and news in the AI industry, individuals can gain valuable insights into the evolving landscape of technology. It is essential to consider the ethical considerations in AI development and actively participate in discussions about the future of AI. As we navigate through the complexities of AI, let us embrace the opportunities it brings while being mindful of the responsibilities that come with it.\n",
      "\n",
      "**Call to Action:** Explore the provided resources from Forbes, MIT Technology Review, and AI Trends for further learning. Share your thoughts and insights on the future of AI in the comments section below.\u001b[0m\n",
      "\n",
      "\u001b[1m> Finished chain.\u001b[0m\n",
      "\u001b[1m\u001b[92m [DEBUG]: == [Content Writer] Task output: # The Future of Artificial Intelligence: Trends, Players, and News\n",
      "\n",
      "## Introduction\n",
      "\n",
      "Artificial Intelligence (AI) has been rapidly advancing, revolutionizing various industries and shaping the future of technology. Staying up-to-date with the latest trends and key players in the AI industry is crucial for tech-savvy individuals, business professionals, and students interested in AI. In this article, we will explore the latest trends in AI, key players in the industry, and noteworthy news that is shaping the future of AI.\n",
      "\n",
      "## Latest Trends in Artificial Intelligence\n",
      "\n",
      "Deep learning and neural networks have been at the forefront of AI innovation, enabling machines to learn and make decisions like humans. Natural language processing has also seen significant advancements, with AI-powered systems understanding and generating human language. AI applications in healthcare, finance, and other industries continue to grow, offering solutions to complex problems. However, ethical considerations in AI development, such as bias in algorithms and data privacy, remain crucial in ensuring responsible AI implementation.\n",
      "\n",
      "## Key Players in the AI Industry\n",
      "\n",
      "Major tech companies like Google (Google Brain, DeepMind), Amazon (Alexa, Amazon Web Services), Microsoft (Cortana, Azure), and IBM (Watson) have been leading the way in AI research and development. Alongside these tech giants, startups disrupting the AI space with innovative solutions and products are also making significant contributions to the industry. Collaborations and partnerships between established companies and startups are driving further advancements in AI technology.\n",
      "\n",
      "## Noteworthy News in Artificial Intelligence\n",
      "\n",
      "Recent breakthroughs in AI research, such as advancements in reinforcement learning and computer vision, have been making headlines. The impact of AI on job markets and society is a topic of debate, with concerns about automation and job displacement. Regulations and policies are being developed to shape the future of AI, ensuring ethical and responsible AI deployment. Staying informed about these developments is essential for understanding the implications of AI on our daily lives.\n",
      "\n",
      "## Conclusion\n",
      "\n",
      "In conclusion, the future of Artificial Intelligence is filled with exciting possibilities and challenges. By keeping up with the latest trends, key players, and news in the AI industry, individuals can gain valuable insights into the evolving landscape of technology. It is essential to consider the ethical considerations in AI development and actively participate in discussions about the future of AI. As we navigate through the complexities of AI, let us embrace the opportunities it brings while being mindful of the responsibilities that come with it.\n",
      "\n",
      "**Call to Action:** Explore the provided resources from Forbes, MIT Technology Review, and AI Trends for further learning. Share your thoughts and insights on the future of AI in the comments section below.\n",
      "\n",
      "\u001b[00m\n",
      "\u001b[1m\u001b[95m [DEBUG]: == Working Agent: Editor\u001b[00m\n",
      "\u001b[1m\u001b[95m [INFO]: == Starting Task: Proofread the given blog post for grammatical errors and alignment with the brand's voice.\u001b[00m\n",
      "\n",
      "\n",
      "\u001b[1m> Entering new CrewAgentExecutor chain...\u001b[0m\n"
     ]
    },
    {
     "name": "stdout",
     "output_type": "stream",
     "text": [
      "\u001b[32;1m\u001b[1;3mI now can give a great answer\n",
      "\n",
      "Final Answer: \n",
      "\n",
      "# The Future of Artificial Intelligence: Trends, Players, and News\n",
      "\n",
      "## Introduction\n",
      "\n",
      "Artificial Intelligence (AI) has been rapidly advancing, revolutionizing various industries and shaping the future of technology. Staying up-to-date with the latest trends and key players in the AI industry is crucial for tech-savvy individuals, business professionals, and students interested in AI. In this article, we will explore the latest trends in AI, key players in the industry, and noteworthy news that is shaping the future of AI.\n",
      "\n",
      "## Latest Trends in Artificial Intelligence\n",
      "\n",
      "Deep learning and neural networks have been at the forefront of AI innovation, enabling machines to learn and make decisions like humans. Natural language processing has also seen significant advancements, with AI-powered systems understanding and generating human language. AI applications in healthcare, finance, and other industries continue to grow, offering solutions to complex problems. However, ethical considerations in AI development, such as bias in algorithms and data privacy, remain crucial in ensuring responsible AI implementation.\n",
      "\n",
      "## Key Players in the AI Industry\n",
      "\n",
      "Major tech companies like Google (Google Brain, DeepMind), Amazon (Alexa, Amazon Web Services), Microsoft (Cortana, Azure), and IBM (Watson) have been leading the way in AI research and development. Alongside these tech giants, startups disrupting the AI space with innovative solutions and products are also making significant contributions to the industry. Collaborations and partnerships between established companies and startups are driving further advancements in AI technology.\n",
      "\n",
      "## Noteworthy News in Artificial Intelligence\n",
      "\n",
      "Recent breakthroughs in AI research, such as advancements in reinforcement learning and computer vision, have been making headlines. The impact of AI on job markets and society is a topic of debate, with concerns about automation and job displacement. Regulations and policies are being developed to shape the future of AI, ensuring ethical and responsible AI deployment. Staying informed about these developments is essential for understanding the implications of AI on our daily lives.\n",
      "\n",
      "## Conclusion\n",
      "\n",
      "In conclusion, the future of Artificial Intelligence is filled with exciting possibilities and challenges. By keeping up with the latest trends, key players, and news in the AI industry, individuals can gain valuable insights into the evolving landscape of technology. It is essential to consider the ethical considerations in AI development and actively participate in discussions about the future of AI. As we navigate through the complexities of AI, let us embrace the opportunities it brings while being mindful of the responsibilities that come with it.\n",
      "\n",
      "**Call to Action:** Explore the provided resources from Forbes, MIT Technology Review, and AI Trends for further learning. Share your thoughts and insights on the future of AI in the comments section below.\u001b[0m\n",
      "\n",
      "\u001b[1m> Finished chain.\u001b[0m\n",
      "\u001b[1m\u001b[92m [DEBUG]: == [Editor] Task output: # The Future of Artificial Intelligence: Trends, Players, and News\n",
      "\n",
      "## Introduction\n",
      "\n",
      "Artificial Intelligence (AI) has been rapidly advancing, revolutionizing various industries and shaping the future of technology. Staying up-to-date with the latest trends and key players in the AI industry is crucial for tech-savvy individuals, business professionals, and students interested in AI. In this article, we will explore the latest trends in AI, key players in the industry, and noteworthy news that is shaping the future of AI.\n",
      "\n",
      "## Latest Trends in Artificial Intelligence\n",
      "\n",
      "Deep learning and neural networks have been at the forefront of AI innovation, enabling machines to learn and make decisions like humans. Natural language processing has also seen significant advancements, with AI-powered systems understanding and generating human language. AI applications in healthcare, finance, and other industries continue to grow, offering solutions to complex problems. However, ethical considerations in AI development, such as bias in algorithms and data privacy, remain crucial in ensuring responsible AI implementation.\n",
      "\n",
      "## Key Players in the AI Industry\n",
      "\n",
      "Major tech companies like Google (Google Brain, DeepMind), Amazon (Alexa, Amazon Web Services), Microsoft (Cortana, Azure), and IBM (Watson) have been leading the way in AI research and development. Alongside these tech giants, startups disrupting the AI space with innovative solutions and products are also making significant contributions to the industry. Collaborations and partnerships between established companies and startups are driving further advancements in AI technology.\n",
      "\n",
      "## Noteworthy News in Artificial Intelligence\n",
      "\n",
      "Recent breakthroughs in AI research, such as advancements in reinforcement learning and computer vision, have been making headlines. The impact of AI on job markets and society is a topic of debate, with concerns about automation and job displacement. Regulations and policies are being developed to shape the future of AI, ensuring ethical and responsible AI deployment. Staying informed about these developments is essential for understanding the implications of AI on our daily lives.\n",
      "\n",
      "## Conclusion\n",
      "\n",
      "In conclusion, the future of Artificial Intelligence is filled with exciting possibilities and challenges. By keeping up with the latest trends, key players, and news in the AI industry, individuals can gain valuable insights into the evolving landscape of technology. It is essential to consider the ethical considerations in AI development and actively participate in discussions about the future of AI. As we navigate through the complexities of AI, let us embrace the opportunities it brings while being mindful of the responsibilities that come with it.\n",
      "\n",
      "**Call to Action:** Explore the provided resources from Forbes, MIT Technology Review, and AI Trends for further learning. Share your thoughts and insights on the future of AI in the comments section below.\n",
      "\n",
      "\u001b[00m\n"
     ]
    }
   ],
   "source": [
    "result = crew.kickoff(inputs={\"topic\": \"Artificial Intelligence\"})"
   ]
  },
  {
   "cell_type": "markdown",
   "metadata": {},
   "source": [
    "- Display the results of your execution as markdown in the notebook."
   ]
  },
  {
   "cell_type": "code",
   "execution_count": 12,
   "metadata": {
    "height": 47
   },
   "outputs": [
    {
     "data": {
      "text/markdown": [
       "# The Future of Artificial Intelligence: Trends, Players, and News\n",
       "\n",
       "## Introduction\n",
       "\n",
       "Artificial Intelligence (AI) has been rapidly advancing, revolutionizing various industries and shaping the future of technology. Staying up-to-date with the latest trends and key players in the AI industry is crucial for tech-savvy individuals, business professionals, and students interested in AI. In this article, we will explore the latest trends in AI, key players in the industry, and noteworthy news that is shaping the future of AI.\n",
       "\n",
       "## Latest Trends in Artificial Intelligence\n",
       "\n",
       "Deep learning and neural networks have been at the forefront of AI innovation, enabling machines to learn and make decisions like humans. Natural language processing has also seen significant advancements, with AI-powered systems understanding and generating human language. AI applications in healthcare, finance, and other industries continue to grow, offering solutions to complex problems. However, ethical considerations in AI development, such as bias in algorithms and data privacy, remain crucial in ensuring responsible AI implementation.\n",
       "\n",
       "## Key Players in the AI Industry\n",
       "\n",
       "Major tech companies like Google (Google Brain, DeepMind), Amazon (Alexa, Amazon Web Services), Microsoft (Cortana, Azure), and IBM (Watson) have been leading the way in AI research and development. Alongside these tech giants, startups disrupting the AI space with innovative solutions and products are also making significant contributions to the industry. Collaborations and partnerships between established companies and startups are driving further advancements in AI technology.\n",
       "\n",
       "## Noteworthy News in Artificial Intelligence\n",
       "\n",
       "Recent breakthroughs in AI research, such as advancements in reinforcement learning and computer vision, have been making headlines. The impact of AI on job markets and society is a topic of debate, with concerns about automation and job displacement. Regulations and policies are being developed to shape the future of AI, ensuring ethical and responsible AI deployment. Staying informed about these developments is essential for understanding the implications of AI on our daily lives.\n",
       "\n",
       "## Conclusion\n",
       "\n",
       "In conclusion, the future of Artificial Intelligence is filled with exciting possibilities and challenges. By keeping up with the latest trends, key players, and news in the AI industry, individuals can gain valuable insights into the evolving landscape of technology. It is essential to consider the ethical considerations in AI development and actively participate in discussions about the future of AI. As we navigate through the complexities of AI, let us embrace the opportunities it brings while being mindful of the responsibilities that come with it.\n",
       "\n",
       "**Call to Action:** Explore the provided resources from Forbes, MIT Technology Review, and AI Trends for further learning. Share your thoughts and insights on the future of AI in the comments section below."
      ],
      "text/plain": [
       "<IPython.core.display.Markdown object>"
      ]
     },
     "execution_count": 12,
     "metadata": {},
     "output_type": "execute_result"
    }
   ],
   "source": [
    "from IPython.display import Markdown\n",
    "Markdown(result)"
   ]
  },
  {
   "cell_type": "markdown",
   "metadata": {},
   "source": [
    "## Try it Yourself\n",
    "\n",
    "- Pass in a topic of your choice and see what the agents come up with!"
   ]
  },
  {
   "cell_type": "code",
   "execution_count": 13,
   "metadata": {
    "height": 62
   },
   "outputs": [
    {
     "name": "stdout",
     "output_type": "stream",
     "text": [
      "\u001b[1m\u001b[95m [DEBUG]: == Working Agent: Content Planner\u001b[00m\n",
      "\u001b[1m\u001b[95m [INFO]: == Starting Task: 1. Prioritize the latest trends, key players, and noteworthy news on Artificial Intelligence.\n",
      "2. Identify the target audience, considering their interests and pain points.\n",
      "3. Develop a detailed content outline including an introduction, key points, and a call to action.\n",
      "4. Include SEO keywords and relevant data or sources.\u001b[00m\n",
      "\n",
      "\n",
      "\u001b[1m> Entering new CrewAgentExecutor chain...\u001b[0m\n",
      "\u001b[32;1m\u001b[1;3mI now can give a great answer\n",
      "\n",
      "Final Answer: \n",
      "\n",
      "Content Plan Document:\n",
      "\n",
      "Title: Unveiling the Latest Trends and Key Players in Artificial Intelligence\n",
      "\n",
      "Introduction:\n",
      "- Brief overview of Artificial Intelligence (AI) and its impact on various industries.\n",
      "- Mention the rapid advancements in AI technology and its potential for the future.\n",
      "\n",
      "Key Points:\n",
      "1. Latest Trends in AI:\n",
      "- Machine learning and deep learning algorithms.\n",
      "- Natural language processing and sentiment analysis.\n",
      "- AI-powered chatbots and virtual assistants.\n",
      "- Autonomous vehicles and robotics.\n",
      "- AI in healthcare and personalized medicine.\n",
      "\n",
      "2. Key Players in the AI Industry:\n",
      "- Google (with Google Brain and DeepMind).\n",
      "- Amazon (with Alexa and Amazon Web Services).\n",
      "- IBM (with Watson).\n",
      "- Microsoft (with Azure AI).\n",
      "- Tesla (with Autopilot).\n",
      "- Apple (with Siri and Core ML).\n",
      "\n",
      "3. Noteworthy News in AI:\n",
      "- Recent breakthroughs in AI research.\n",
      "- AI applications in solving real-world problems.\n",
      "- Regulatory updates and ethical considerations in AI development.\n",
      "\n",
      "Audience Analysis:\n",
      "- Target Audience: Professionals in tech, business leaders, students, and AI enthusiasts.\n",
      "- Interests: Keeping up with the latest technology trends, understanding AI applications in different sectors, and exploring career opportunities in AI.\n",
      "- Pain Points: Lack of knowledge about AI advancements, confusion about AI terminology, and uncertainty about the future impact of AI on society.\n",
      "\n",
      "Content Outline:\n",
      "1. Introduction to Artificial Intelligence\n",
      "2. Latest Trends in AI\n",
      "3. Key Players in the AI Industry\n",
      "4. Noteworthy News in AI\n",
      "5. Audience Q&A Section\n",
      "6. Call to Action: Encourage readers to explore AI resources, attend AI conferences, and pursue AI-related careers.\n",
      "\n",
      "SEO Keywords:\n",
      "- Artificial Intelligence Trends 2021\n",
      "- Top AI Companies\n",
      "- Latest News in Artificial Intelligence\n",
      "- AI Technology Innovations\n",
      "- Future of Artificial Intelligence\n",
      "\n",
      "Resources:\n",
      "1. Gartner's Top 10 Strategic Technology Trends for 2021\n",
      "2. Forbes article on the impact of AI in healthcare\n",
      "3. Deloitte's report on AI adoption in business\n",
      "4. TED Talk on ethical AI development by Timnit Gebru\n",
      "5. MIT Technology Review's coverage of AI breakthroughs\n",
      "\n",
      "By following this comprehensive content plan, the blog article on Artificial Intelligence will provide valuable insights to the audience, helping them stay informed and make informed decisions in the rapidly evolving AI landscape.\u001b[0m\n",
      "\n",
      "\u001b[1m> Finished chain.\u001b[0m\n",
      "\u001b[1m\u001b[92m [DEBUG]: == [Content Planner] Task output: Content Plan Document:\n",
      "\n",
      "Title: Unveiling the Latest Trends and Key Players in Artificial Intelligence\n",
      "\n",
      "Introduction:\n",
      "- Brief overview of Artificial Intelligence (AI) and its impact on various industries.\n",
      "- Mention the rapid advancements in AI technology and its potential for the future.\n",
      "\n",
      "Key Points:\n",
      "1. Latest Trends in AI:\n",
      "- Machine learning and deep learning algorithms.\n",
      "- Natural language processing and sentiment analysis.\n",
      "- AI-powered chatbots and virtual assistants.\n",
      "- Autonomous vehicles and robotics.\n",
      "- AI in healthcare and personalized medicine.\n",
      "\n",
      "2. Key Players in the AI Industry:\n",
      "- Google (with Google Brain and DeepMind).\n",
      "- Amazon (with Alexa and Amazon Web Services).\n",
      "- IBM (with Watson).\n",
      "- Microsoft (with Azure AI).\n",
      "- Tesla (with Autopilot).\n",
      "- Apple (with Siri and Core ML).\n",
      "\n",
      "3. Noteworthy News in AI:\n",
      "- Recent breakthroughs in AI research.\n",
      "- AI applications in solving real-world problems.\n",
      "- Regulatory updates and ethical considerations in AI development.\n",
      "\n",
      "Audience Analysis:\n",
      "- Target Audience: Professionals in tech, business leaders, students, and AI enthusiasts.\n",
      "- Interests: Keeping up with the latest technology trends, understanding AI applications in different sectors, and exploring career opportunities in AI.\n",
      "- Pain Points: Lack of knowledge about AI advancements, confusion about AI terminology, and uncertainty about the future impact of AI on society.\n",
      "\n",
      "Content Outline:\n",
      "1. Introduction to Artificial Intelligence\n",
      "2. Latest Trends in AI\n",
      "3. Key Players in the AI Industry\n",
      "4. Noteworthy News in AI\n",
      "5. Audience Q&A Section\n",
      "6. Call to Action: Encourage readers to explore AI resources, attend AI conferences, and pursue AI-related careers.\n",
      "\n",
      "SEO Keywords:\n",
      "- Artificial Intelligence Trends 2021\n",
      "- Top AI Companies\n",
      "- Latest News in Artificial Intelligence\n",
      "- AI Technology Innovations\n",
      "- Future of Artificial Intelligence\n",
      "\n",
      "Resources:\n",
      "1. Gartner's Top 10 Strategic Technology Trends for 2021\n",
      "2. Forbes article on the impact of AI in healthcare\n",
      "3. Deloitte's report on AI adoption in business\n",
      "4. TED Talk on ethical AI development by Timnit Gebru\n",
      "5. MIT Technology Review's coverage of AI breakthroughs\n",
      "\n",
      "By following this comprehensive content plan, the blog article on Artificial Intelligence will provide valuable insights to the audience, helping them stay informed and make informed decisions in the rapidly evolving AI landscape.\n",
      "\n",
      "\u001b[00m\n",
      "\u001b[1m\u001b[95m [DEBUG]: == Working Agent: Content Writer\u001b[00m\n",
      "\u001b[1m\u001b[95m [INFO]: == Starting Task: 1. Use the content plan to craft a compelling blog post on Artificial Intelligence.\n",
      "2. Incorporate SEO keywords naturally.\n",
      "3. Sections/Subtitles are properly named in an engaging manner.\n",
      "4. Ensure the post is structured with an engaging introduction, insightful body, and a summarizing conclusion.\n",
      "5. Proofread for grammatical errors and alignment with the brand's voice.\n",
      "\u001b[00m\n",
      "\n",
      "\n",
      "\u001b[1m> Entering new CrewAgentExecutor chain...\u001b[0m\n",
      "\u001b[32;1m\u001b[1;3mI now can give a great answer\n",
      "\n",
      "Final Answer:\n",
      "\n",
      "# Unveiling the Latest Trends and Key Players in Artificial Intelligence\n",
      "\n",
      "## Introduction to Artificial Intelligence\n",
      "Artificial Intelligence (AI) has become a transformative force in various industries, revolutionizing the way businesses operate and enhancing the quality of our daily lives. With rapid advancements in AI technology, the possibilities for the future are limitless. From machine learning and deep learning algorithms to natural language processing and sentiment analysis, AI is reshaping how we interact with technology and each other.\n",
      "\n",
      "## Latest Trends in AI\n",
      "One of the key trends in AI is the rise of machine learning and deep learning algorithms, which enable computers to learn from data and improve their performance over time. Natural language processing and sentiment analysis have also gained prominence, allowing machines to understand and respond to human language in a more nuanced way. AI-powered chatbots and virtual assistants are becoming increasingly common, providing personalized and efficient customer service. Autonomous vehicles and robotics are pushing the boundaries of automation and transportation. In healthcare, AI is revolutionizing personalized medicine, offering tailored treatment plans based on individual patient data.\n",
      "\n",
      "## Key Players in the AI Industry\n",
      "Several tech giants are leading the way in AI innovation. Google, with its Google Brain and DeepMind projects, is at the forefront of AI research. Amazon's Alexa and Amazon Web Services are setting new standards for virtual assistants and cloud computing. IBM's Watson platform is a pioneer in cognitive computing, while Microsoft's Azure AI is making AI more accessible to businesses. Tesla's Autopilot technology is revolutionizing the automotive industry, and Apple's Siri and Core ML are bringing AI to the masses through mobile devices.\n",
      "\n",
      "## Noteworthy News in AI\n",
      "Recent breakthroughs in AI research have pushed the boundaries of what machines can achieve, from beating human champions in complex games to creating lifelike virtual environments. AI applications are increasingly being used to solve real-world problems, from predicting natural disasters to optimizing supply chains. Regulatory updates and ethical considerations in AI development are also gaining traction, with experts like Timnit Gebru advocating for responsible AI practices.\n",
      "\n",
      "## Audience Q&A Section\n",
      "**Q:** What are the future implications of AI on job markets?\n",
      "**A:** While AI may automate certain tasks, it also creates new opportunities for jobs in AI development, data science, and technology management.\n",
      "\n",
      "**Q:** How can individuals prepare for a career in AI?\n",
      "**A:** Pursuing education in computer science, data analytics, and machine learning can help individuals enter the growing field of AI.\n",
      "\n",
      "## Call to Action\n",
      "As AI continues to shape the future of technology and business, it is essential for professionals, students, and enthusiasts to stay informed and explore the possibilities that AI offers. By attending AI conferences, exploring AI resources, and pursuing AI-related careers, individuals can be at the forefront of the AI revolution.\n",
      "\n",
      "In conclusion, Artificial Intelligence is not just a technological advancement but a societal shift that has the potential to transform industries and improve the quality of life for individuals around the world. By staying updated on the latest trends and key players in the AI industry, we can harness the power of AI for positive change and innovation.\n",
      "\n",
      "---\n",
      "I hope this answer meets your expectations, and thank you for the opportunity to work with you.\u001b[0m\n",
      "\n",
      "\u001b[1m> Finished chain.\u001b[0m\n",
      "\u001b[1m\u001b[92m [DEBUG]: == [Content Writer] Task output: # Unveiling the Latest Trends and Key Players in Artificial Intelligence\n",
      "\n",
      "## Introduction to Artificial Intelligence\n",
      "Artificial Intelligence (AI) has become a transformative force in various industries, revolutionizing the way businesses operate and enhancing the quality of our daily lives. With rapid advancements in AI technology, the possibilities for the future are limitless. From machine learning and deep learning algorithms to natural language processing and sentiment analysis, AI is reshaping how we interact with technology and each other.\n",
      "\n",
      "## Latest Trends in AI\n",
      "One of the key trends in AI is the rise of machine learning and deep learning algorithms, which enable computers to learn from data and improve their performance over time. Natural language processing and sentiment analysis have also gained prominence, allowing machines to understand and respond to human language in a more nuanced way. AI-powered chatbots and virtual assistants are becoming increasingly common, providing personalized and efficient customer service. Autonomous vehicles and robotics are pushing the boundaries of automation and transportation. In healthcare, AI is revolutionizing personalized medicine, offering tailored treatment plans based on individual patient data.\n",
      "\n",
      "## Key Players in the AI Industry\n",
      "Several tech giants are leading the way in AI innovation. Google, with its Google Brain and DeepMind projects, is at the forefront of AI research. Amazon's Alexa and Amazon Web Services are setting new standards for virtual assistants and cloud computing. IBM's Watson platform is a pioneer in cognitive computing, while Microsoft's Azure AI is making AI more accessible to businesses. Tesla's Autopilot technology is revolutionizing the automotive industry, and Apple's Siri and Core ML are bringing AI to the masses through mobile devices.\n",
      "\n",
      "## Noteworthy News in AI\n",
      "Recent breakthroughs in AI research have pushed the boundaries of what machines can achieve, from beating human champions in complex games to creating lifelike virtual environments. AI applications are increasingly being used to solve real-world problems, from predicting natural disasters to optimizing supply chains. Regulatory updates and ethical considerations in AI development are also gaining traction, with experts like Timnit Gebru advocating for responsible AI practices.\n",
      "\n",
      "## Audience Q&A Section\n",
      "**Q:** What are the future implications of AI on job markets?\n",
      "**A:** While AI may automate certain tasks, it also creates new opportunities for jobs in AI development, data science, and technology management.\n",
      "\n",
      "**Q:** How can individuals prepare for a career in AI?\n",
      "**A:** Pursuing education in computer science, data analytics, and machine learning can help individuals enter the growing field of AI.\n",
      "\n",
      "## Call to Action\n",
      "As AI continues to shape the future of technology and business, it is essential for professionals, students, and enthusiasts to stay informed and explore the possibilities that AI offers. By attending AI conferences, exploring AI resources, and pursuing AI-related careers, individuals can be at the forefront of the AI revolution.\n",
      "\n",
      "In conclusion, Artificial Intelligence is not just a technological advancement but a societal shift that has the potential to transform industries and improve the quality of life for individuals around the world. By staying updated on the latest trends and key players in the AI industry, we can harness the power of AI for positive change and innovation.\n",
      "\n",
      "---\n",
      "I hope this answer meets your expectations, and thank you for the opportunity to work with you.\n",
      "\n",
      "\u001b[00m\n",
      "\u001b[1m\u001b[95m [DEBUG]: == Working Agent: Editor\u001b[00m\n",
      "\u001b[1m\u001b[95m [INFO]: == Starting Task: Proofread the given blog post for grammatical errors and alignment with the brand's voice.\u001b[00m\n",
      "\n",
      "\n",
      "\u001b[1m> Entering new CrewAgentExecutor chain...\u001b[0m\n"
     ]
    },
    {
     "name": "stdout",
     "output_type": "stream",
     "text": [
      "\u001b[32;1m\u001b[1;3mI now can give a great answer\n",
      "\n",
      "Final Answer:\n",
      "# Unveiling the Latest Trends and Key Players in Artificial Intelligence\n",
      "\n",
      "## Introduction to Artificial Intelligence\n",
      "Artificial Intelligence (AI) has become a transformative force in various industries, revolutionizing the way businesses operate and enhancing the quality of our daily lives. With rapid advancements in AI technology, the possibilities for the future are limitless. From machine learning and deep learning algorithms to natural language processing and sentiment analysis, AI is reshaping how we interact with technology and each other.\n",
      "\n",
      "## Latest Trends in AI\n",
      "One of the key trends in AI is the rise of machine learning and deep learning algorithms, which enable computers to learn from data and improve their performance over time. Natural language processing and sentiment analysis have also gained prominence, allowing machines to understand and respond to human language in a more nuanced way. AI-powered chatbots and virtual assistants are becoming increasingly common, providing personalized and efficient customer service. Autonomous vehicles and robotics are pushing the boundaries of automation and transportation. In healthcare, AI is revolutionizing personalized medicine, offering tailored treatment plans based on individual patient data.\n",
      "\n",
      "## Key Players in the AI Industry\n",
      "Several tech giants are leading the way in AI innovation. Google, with its Google Brain and DeepMind projects, is at the forefront of AI research. Amazon's Alexa and Amazon Web Services are setting new standards for virtual assistants and cloud computing. IBM's Watson platform is a pioneer in cognitive computing, while Microsoft's Azure AI is making AI more accessible to businesses. Tesla's Autopilot technology is revolutionizing the automotive industry, and Apple's Siri and Core ML are bringing AI to the masses through mobile devices.\n",
      "\n",
      "## Noteworthy News in AI\n",
      "Recent breakthroughs in AI research have pushed the boundaries of what machines can achieve, from beating human champions in complex games to creating lifelike virtual environments. AI applications are increasingly being used to solve real-world problems, from predicting natural disasters to optimizing supply chains. Regulatory updates and ethical considerations in AI development are also gaining traction, with experts like Timnit Gebru advocating for responsible AI practices.\n",
      "\n",
      "## Audience Q&A Section\n",
      "**Q:** What are the future implications of AI on job markets?\n",
      "**A:** While AI may automate certain tasks, it also creates new opportunities for jobs in AI development, data science, and technology management.\n",
      "\n",
      "**Q:** How can individuals prepare for a career in AI?\n",
      "**A:** Pursuing education in computer science, data analytics, and machine learning can help individuals enter the growing field of AI.\n",
      "\n",
      "## Call to Action\n",
      "As AI continues to shape the future of technology and business, it is essential for professionals, students, and enthusiasts to stay informed and explore the possibilities that AI offers. By attending AI conferences, exploring AI resources, and pursuing AI-related careers, individuals can be at the forefront of the AI revolution.\n",
      "\n",
      "In conclusion, Artificial Intelligence is not just a technological advancement but a societal shift that has the potential to transform industries and improve the quality of life for individuals around the world. By staying updated on the latest trends and key players in the AI industry, we can harness the power of AI for positive change and innovation.\u001b[0m\n",
      "\n",
      "\u001b[1m> Finished chain.\u001b[0m\n",
      "\u001b[1m\u001b[92m [DEBUG]: == [Editor] Task output: # Unveiling the Latest Trends and Key Players in Artificial Intelligence\n",
      "\n",
      "## Introduction to Artificial Intelligence\n",
      "Artificial Intelligence (AI) has become a transformative force in various industries, revolutionizing the way businesses operate and enhancing the quality of our daily lives. With rapid advancements in AI technology, the possibilities for the future are limitless. From machine learning and deep learning algorithms to natural language processing and sentiment analysis, AI is reshaping how we interact with technology and each other.\n",
      "\n",
      "## Latest Trends in AI\n",
      "One of the key trends in AI is the rise of machine learning and deep learning algorithms, which enable computers to learn from data and improve their performance over time. Natural language processing and sentiment analysis have also gained prominence, allowing machines to understand and respond to human language in a more nuanced way. AI-powered chatbots and virtual assistants are becoming increasingly common, providing personalized and efficient customer service. Autonomous vehicles and robotics are pushing the boundaries of automation and transportation. In healthcare, AI is revolutionizing personalized medicine, offering tailored treatment plans based on individual patient data.\n",
      "\n",
      "## Key Players in the AI Industry\n",
      "Several tech giants are leading the way in AI innovation. Google, with its Google Brain and DeepMind projects, is at the forefront of AI research. Amazon's Alexa and Amazon Web Services are setting new standards for virtual assistants and cloud computing. IBM's Watson platform is a pioneer in cognitive computing, while Microsoft's Azure AI is making AI more accessible to businesses. Tesla's Autopilot technology is revolutionizing the automotive industry, and Apple's Siri and Core ML are bringing AI to the masses through mobile devices.\n",
      "\n",
      "## Noteworthy News in AI\n",
      "Recent breakthroughs in AI research have pushed the boundaries of what machines can achieve, from beating human champions in complex games to creating lifelike virtual environments. AI applications are increasingly being used to solve real-world problems, from predicting natural disasters to optimizing supply chains. Regulatory updates and ethical considerations in AI development are also gaining traction, with experts like Timnit Gebru advocating for responsible AI practices.\n",
      "\n",
      "## Audience Q&A Section\n",
      "**Q:** What are the future implications of AI on job markets?\n",
      "**A:** While AI may automate certain tasks, it also creates new opportunities for jobs in AI development, data science, and technology management.\n",
      "\n",
      "**Q:** How can individuals prepare for a career in AI?\n",
      "**A:** Pursuing education in computer science, data analytics, and machine learning can help individuals enter the growing field of AI.\n",
      "\n",
      "## Call to Action\n",
      "As AI continues to shape the future of technology and business, it is essential for professionals, students, and enthusiasts to stay informed and explore the possibilities that AI offers. By attending AI conferences, exploring AI resources, and pursuing AI-related careers, individuals can be at the forefront of the AI revolution.\n",
      "\n",
      "In conclusion, Artificial Intelligence is not just a technological advancement but a societal shift that has the potential to transform industries and improve the quality of life for individuals around the world. By staying updated on the latest trends and key players in the AI industry, we can harness the power of AI for positive change and innovation.\n",
      "\n",
      "\u001b[00m\n"
     ]
    }
   ],
   "source": [
    "topic = \"Artificial Intelligence\"\n",
    "result = crew.kickoff(inputs={\"topic\": topic})"
   ]
  },
  {
   "cell_type": "code",
   "execution_count": 14,
   "metadata": {
    "height": 30
   },
   "outputs": [
    {
     "data": {
      "text/markdown": [
       "# Unveiling the Latest Trends and Key Players in Artificial Intelligence\n",
       "\n",
       "## Introduction to Artificial Intelligence\n",
       "Artificial Intelligence (AI) has become a transformative force in various industries, revolutionizing the way businesses operate and enhancing the quality of our daily lives. With rapid advancements in AI technology, the possibilities for the future are limitless. From machine learning and deep learning algorithms to natural language processing and sentiment analysis, AI is reshaping how we interact with technology and each other.\n",
       "\n",
       "## Latest Trends in AI\n",
       "One of the key trends in AI is the rise of machine learning and deep learning algorithms, which enable computers to learn from data and improve their performance over time. Natural language processing and sentiment analysis have also gained prominence, allowing machines to understand and respond to human language in a more nuanced way. AI-powered chatbots and virtual assistants are becoming increasingly common, providing personalized and efficient customer service. Autonomous vehicles and robotics are pushing the boundaries of automation and transportation. In healthcare, AI is revolutionizing personalized medicine, offering tailored treatment plans based on individual patient data.\n",
       "\n",
       "## Key Players in the AI Industry\n",
       "Several tech giants are leading the way in AI innovation. Google, with its Google Brain and DeepMind projects, is at the forefront of AI research. Amazon's Alexa and Amazon Web Services are setting new standards for virtual assistants and cloud computing. IBM's Watson platform is a pioneer in cognitive computing, while Microsoft's Azure AI is making AI more accessible to businesses. Tesla's Autopilot technology is revolutionizing the automotive industry, and Apple's Siri and Core ML are bringing AI to the masses through mobile devices.\n",
       "\n",
       "## Noteworthy News in AI\n",
       "Recent breakthroughs in AI research have pushed the boundaries of what machines can achieve, from beating human champions in complex games to creating lifelike virtual environments. AI applications are increasingly being used to solve real-world problems, from predicting natural disasters to optimizing supply chains. Regulatory updates and ethical considerations in AI development are also gaining traction, with experts like Timnit Gebru advocating for responsible AI practices.\n",
       "\n",
       "## Audience Q&A Section\n",
       "**Q:** What are the future implications of AI on job markets?\n",
       "**A:** While AI may automate certain tasks, it also creates new opportunities for jobs in AI development, data science, and technology management.\n",
       "\n",
       "**Q:** How can individuals prepare for a career in AI?\n",
       "**A:** Pursuing education in computer science, data analytics, and machine learning can help individuals enter the growing field of AI.\n",
       "\n",
       "## Call to Action\n",
       "As AI continues to shape the future of technology and business, it is essential for professionals, students, and enthusiasts to stay informed and explore the possibilities that AI offers. By attending AI conferences, exploring AI resources, and pursuing AI-related careers, individuals can be at the forefront of the AI revolution.\n",
       "\n",
       "In conclusion, Artificial Intelligence is not just a technological advancement but a societal shift that has the potential to transform industries and improve the quality of life for individuals around the world. By staying updated on the latest trends and key players in the AI industry, we can harness the power of AI for positive change and innovation."
      ],
      "text/plain": [
       "<IPython.core.display.Markdown object>"
      ]
     },
     "execution_count": 14,
     "metadata": {},
     "output_type": "execute_result"
    }
   ],
   "source": [
    "Markdown(result)"
   ]
  },
  {
   "cell_type": "markdown",
   "metadata": {},
   "source": [
    "<a name='1'></a>\n",
    " ## Other Popular Models as LLM for your Agents"
   ]
  },
  {
   "cell_type": "markdown",
   "metadata": {},
   "source": [
    "#### Hugging Face (HuggingFaceHub endpoint)\n",
    "\n",
    "```Python\n",
    "from langchain_community.llms import HuggingFaceHub\n",
    "\n",
    "llm = HuggingFaceHub(\n",
    "    repo_id=\"HuggingFaceH4/zephyr-7b-beta\",\n",
    "    huggingfacehub_api_token=\"<HF_TOKEN_HERE>\",\n",
    "    task=\"text-generation\",\n",
    ")\n",
    "\n",
    "### you will pass \"llm\" to your agent function\n",
    "```"
   ]
  },
  {
   "cell_type": "markdown",
   "metadata": {},
   "source": [
    "#### Mistral API\n",
    "\n",
    "```Python\n",
    "OPENAI_API_KEY=your-mistral-api-key\n",
    "OPENAI_API_BASE=https://api.mistral.ai/v1\n",
    "OPENAI_MODEL_NAME=\"mistral-small\"\n",
    "```"
   ]
  },
  {
   "cell_type": "markdown",
   "metadata": {},
   "source": [
    "#### Cohere\n",
    "\n",
    "```Python\n",
    "from langchain_community.chat_models import ChatCohere\n",
    "# Initialize language model\n",
    "os.environ[\"COHERE_API_KEY\"] = \"your-cohere-api-key\"\n",
    "llm = ChatCohere()\n",
    "\n",
    "### you will pass \"llm\" to your agent function\n",
    "```"
   ]
  },
  {
   "cell_type": "markdown",
   "metadata": {},
   "source": []
  },
  {
   "cell_type": "code",
   "execution_count": null,
   "metadata": {
    "height": 30
   },
   "outputs": [],
   "source": []
  },
  {
   "cell_type": "code",
   "execution_count": null,
   "metadata": {
    "height": 30
   },
   "outputs": [],
   "source": []
  },
  {
   "cell_type": "code",
   "execution_count": null,
   "metadata": {
    "height": 30
   },
   "outputs": [],
   "source": []
  }
 ],
 "metadata": {
  "colab": {
   "gpuType": "T4",
   "provenance": []
  },
  "kernelspec": {
   "display_name": "Python 3 (ipykernel)",
   "language": "python",
   "name": "python3"
  },
  "language_info": {
   "codemirror_mode": {
    "name": "ipython",
    "version": 3
   },
   "file_extension": ".py",
   "mimetype": "text/x-python",
   "name": "python",
   "nbconvert_exporter": "python",
   "pygments_lexer": "ipython3",
   "version": "3.12.6"
  }
 },
 "nbformat": 4,
 "nbformat_minor": 4
}
